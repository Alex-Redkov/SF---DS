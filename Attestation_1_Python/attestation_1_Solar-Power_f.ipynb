{
 "cells": [
  {
   "cell_type": "markdown",
   "id": "25bb6bc5-fbd2-400a-9e01-cba18415fe9d",
   "metadata": {},
   "source": [
    "## <center> Аттестация 1. Python. Практическое задание в Jupiter"
   ]
  },
  {
   "cell_type": "markdown",
   "id": "74c91391-dc17-4d6a-bbf8-489617260e61",
   "metadata": {},
   "source": [
    "В данном блоке вам предстоит решить задачу, которую автор когда-то решал на одном из своих собеседований.\n",
    "Вам предоставлена таблица с данными (скачать файл можно на платформе) о ежедневной выработке энергии солнечными батареями. Информация в ней содержится в двух столбцах: \n",
    "* date - дата наблюдения\n",
    "* cum_power - накопленная (кумулятивная) выработка энергии на указанный день\n",
    "\n",
    "То есть перед вами классический пример временного ряда: числовой показатель, зависящий от времени. Давайте с ним поработаем.\n"
   ]
  },
  {
   "cell_type": "code",
   "execution_count": 23,
   "id": "b3bad4ea-f1e8-47a4-a8f9-7c7ec263e5cb",
   "metadata": {},
   "outputs": [],
   "source": [
    "import pandas as pd\n",
    "import numpy as np\n",
    "import matplotlib.pyplot as plt\n",
    "%matplotlib inline\n",
    "import seaborn as sns"
   ]
  },
  {
   "cell_type": "markdown",
   "id": "d4014255-56cb-4ca8-9ebc-34003a9177d1",
   "metadata": {},
   "source": [
    "1. В нашем временном ряде есть несколько пропусков, они обозначены числом -1. Заполните пропуски средним арифметическим между двумя соседними наблюдениями: </p>\n",
    "    $$x^*_i  = \\frac{x_{i-1} + x_{i+1}}{2}$$ \n",
    "    \n",
    "Совет: проще всего будет сделать это, используя цикл по индексам элементов столбца cum_power, но вы можете предложить более изящное решение.\n"
   ]
  },
  {
   "cell_type": "code",
   "execution_count": 24,
   "id": "2787a04e-a9e1-42ab-a5d9-39077ec65174",
   "metadata": {},
   "outputs": [
    {
     "data": {
      "text/html": [
       "<div>\n",
       "<style scoped>\n",
       "    .dataframe tbody tr th:only-of-type {\n",
       "        vertical-align: middle;\n",
       "    }\n",
       "\n",
       "    .dataframe tbody tr th {\n",
       "        vertical-align: top;\n",
       "    }\n",
       "\n",
       "    .dataframe thead th {\n",
       "        text-align: right;\n",
       "    }\n",
       "</style>\n",
       "<table border=\"1\" class=\"dataframe\">\n",
       "  <thead>\n",
       "    <tr style=\"text-align: right;\">\n",
       "      <th></th>\n",
       "      <th>date</th>\n",
       "      <th>cum_power</th>\n",
       "    </tr>\n",
       "  </thead>\n",
       "  <tbody>\n",
       "    <tr>\n",
       "      <th>45</th>\n",
       "      <td>2017-02-15</td>\n",
       "      <td>-1.0</td>\n",
       "    </tr>\n",
       "    <tr>\n",
       "      <th>647</th>\n",
       "      <td>2018-10-10</td>\n",
       "      <td>-1.0</td>\n",
       "    </tr>\n",
       "  </tbody>\n",
       "</table>\n",
       "</div>"
      ],
      "text/plain": [
       "           date  cum_power\n",
       "45   2017-02-15       -1.0\n",
       "647  2018-10-10       -1.0"
      ]
     },
     "metadata": {},
     "output_type": "display_data"
    },
    {
     "name": "stdout",
     "output_type": "stream",
     "text": [
      "Расчетное значение первого пропуска: 20255.0\n",
      "----\n",
      "Расчетное значение второго пропуска: 27998.0\n"
     ]
    },
    {
     "name": "stderr",
     "output_type": "stream",
     "text": [
      "C:\\Users\\USER\\AppData\\Local\\Temp/ipykernel_15148/3012891892.py:6: SettingWithCopyWarning: \n",
      "A value is trying to be set on a copy of a slice from a DataFrame\n",
      "\n",
      "See the caveats in the documentation: https://pandas.pydata.org/pandas-docs/stable/user_guide/indexing.html#returning-a-view-versus-a-copy\n",
      "  solar_power_dt['cum_power'][i] = ((solar_power_dt['cum_power'][i-1])+ (solar_power_dt['cum_power'][i+1]))/2\n"
     ]
    }
   ],
   "source": [
    "solar_power_dt = pd.read_csv('solarpower.csv', sep=',')\n",
    "display(solar_power_dt[solar_power_dt['cum_power'] == -1])\n",
    "\n",
    "for i in solar_power_dt.index:\n",
    "    if (i+1 < solar_power_dt.shape[0]) & (i > 0) & (solar_power_dt['cum_power'][i] == -1):\n",
    "        solar_power_dt['cum_power'][i] = ((solar_power_dt['cum_power'][i-1])+ (solar_power_dt['cum_power'][i+1]))/2\n",
    "\n",
    "print('Расчетное значение первого пропуска: {}'.format(solar_power_dt['cum_power'][45]))\n",
    "print('----')\n",
    "print('Расчетное значение второго пропуска: {}'.format(solar_power_dt['cum_power'][647]))"
   ]
  },
  {
   "cell_type": "markdown",
   "id": "2fe6fd75-0332-4b3d-a89c-d96f42617c6e",
   "metadata": {},
   "source": [
    "2. Теперь, когда таблица заполнена, создайте столбец day_power - ежедневный прирост выработки солнечной энергии.\n",
    "\n",
    "    После чего создайте данные о ежемесячной выработке энергии на каждый год. \n",
    "    \n",
    "Совет: для того, чтобы выделить из даты год и месяц проще всего воспользоваться методом аксессора dt.to_period('M'), который позволяет выделять периоды, в данном случае 'М' - месяц."
   ]
  },
  {
   "cell_type": "code",
   "execution_count": 25,
   "id": "5e272cb8",
   "metadata": {},
   "outputs": [
    {
     "data": {
      "text/html": [
       "<div>\n",
       "<style scoped>\n",
       "    .dataframe tbody tr th:only-of-type {\n",
       "        vertical-align: middle;\n",
       "    }\n",
       "\n",
       "    .dataframe tbody tr th {\n",
       "        vertical-align: top;\n",
       "    }\n",
       "\n",
       "    .dataframe thead th {\n",
       "        text-align: right;\n",
       "    }\n",
       "</style>\n",
       "<table border=\"1\" class=\"dataframe\">\n",
       "  <thead>\n",
       "    <tr style=\"text-align: right;\">\n",
       "      <th></th>\n",
       "      <th>date</th>\n",
       "      <th>cum_power</th>\n",
       "      <th>day_power</th>\n",
       "    </tr>\n",
       "  </thead>\n",
       "  <tbody>\n",
       "    <tr>\n",
       "      <th>0</th>\n",
       "      <td>2017-01-01</td>\n",
       "      <td>20111.0</td>\n",
       "      <td>NaN</td>\n",
       "    </tr>\n",
       "    <tr>\n",
       "      <th>1</th>\n",
       "      <td>2017-01-02</td>\n",
       "      <td>20112.0</td>\n",
       "      <td>1.0</td>\n",
       "    </tr>\n",
       "    <tr>\n",
       "      <th>2</th>\n",
       "      <td>2017-01-03</td>\n",
       "      <td>20115.0</td>\n",
       "      <td>3.0</td>\n",
       "    </tr>\n",
       "    <tr>\n",
       "      <th>3</th>\n",
       "      <td>2017-01-04</td>\n",
       "      <td>20117.0</td>\n",
       "      <td>2.0</td>\n",
       "    </tr>\n",
       "    <tr>\n",
       "      <th>4</th>\n",
       "      <td>2017-01-05</td>\n",
       "      <td>20119.0</td>\n",
       "      <td>2.0</td>\n",
       "    </tr>\n",
       "  </tbody>\n",
       "</table>\n",
       "</div>"
      ],
      "text/plain": [
       "         date  cum_power  day_power\n",
       "0  2017-01-01    20111.0        NaN\n",
       "1  2017-01-02    20112.0        1.0\n",
       "2  2017-01-03    20115.0        3.0\n",
       "3  2017-01-04    20117.0        2.0\n",
       "4  2017-01-05    20119.0        2.0"
      ]
     },
     "metadata": {},
     "output_type": "display_data"
    }
   ],
   "source": [
    "#ver.1\n",
    "solar_power_dt['day_power'] = solar_power_dt['cum_power'].diff(periods=1)\n",
    "display(solar_power_dt.head())"
   ]
  },
  {
   "cell_type": "code",
   "execution_count": 26,
   "id": "4164b952",
   "metadata": {},
   "outputs": [
    {
     "name": "stdout",
     "output_type": "stream",
     "text": [
      "         date  cum_power  day_power\n",
      "0  2017-01-01    20111.0        NaN\n",
      "1  2017-01-02    20112.0        1.0\n",
      "2  2017-01-03    20115.0        3.0\n",
      "3  2017-01-04    20117.0        2.0\n",
      "4  2017-01-05    20119.0        2.0\n"
     ]
    }
   ],
   "source": [
    "#ver.2\n",
    "diff=[np.NaN]\n",
    "for i in range(len(solar_power_dt['cum_power'])-2):\n",
    "    diff.append(solar_power_dt['cum_power'][i+1]-solar_power_dt['cum_power'][i])\n",
    "diff.append(np.nan)\n",
    "solar_power_dt['day_power']=diff\n",
    "print(solar_power_dt.head())"
   ]
  },
  {
   "cell_type": "code",
   "execution_count": 27,
   "id": "165688a2",
   "metadata": {},
   "outputs": [
    {
     "name": "stdout",
     "output_type": "stream",
     "text": [
      "            month_power\n",
      "year_month             \n",
      "2017-01            97.0\n",
      "2017-02           104.0\n",
      "2017-03           334.0\n",
      "2017-04           489.0\n",
      "2017-05           589.0\n",
      "2017-06           645.0\n",
      "2017-07           562.0\n",
      "2017-08           467.0\n",
      "2017-09           346.0\n",
      "2017-10           199.0\n",
      "2017-11            97.0\n",
      "2017-12            36.0\n",
      "2018-01            64.0\n",
      "2018-02           194.0\n",
      "2018-03           270.0\n",
      "2018-04           439.0\n",
      "2018-05           652.0\n",
      "2018-06           563.0\n",
      "2018-07           682.0\n",
      "2018-08           530.0\n",
      "2018-09           416.0\n",
      "2018-10           231.0\n"
     ]
    }
   ],
   "source": [
    "solar_power_dt['date'] = pd.to_datetime(solar_power_dt['date'])\n",
    "solar_power_dt['year_month'] = solar_power_dt['date'].dt.to_period('M')\n",
    "solar_power_dt['month_power'] = solar_power_dt['day_power']\n",
    "solar_power_m = solar_power_dt.pivot_table(values='month_power', index=['year_month'], aggfunc='sum')\n",
    "print(solar_power_m)"
   ]
  },
  {
   "cell_type": "markdown",
   "id": "1651a4e4-42d5-4dd2-94a2-2ae78030cbb7",
   "metadata": {},
   "source": [
    "3. Постройте график временного ряда - ежемесячной выработки солнечной энергии. Не забудьте подписать оси и сам график.\n",
    "Укажите в какие сезоны наблюдается подъем, а в какие спад?"
   ]
  },
  {
   "cell_type": "code",
   "execution_count": 28,
   "id": "26c1a4c3",
   "metadata": {},
   "outputs": [
    {
     "data": {
      "image/png": "[encoded data removed]",
      "text/plain": [
       "<Figure size 720x432 with 1 Axes>"
      ]
     },
     "metadata": {
      "needs_background": "light"
     },
     "output_type": "display_data"
    }
   ],
   "source": [
    "solar_power_m.plot(\n",
    "    kind='line',\n",
    "    figsize=(10, 6),\n",
    "    xlabel='year_month',\n",
    "    ylabel='month_power',\n",
    "    title='Eжемесячная выработка солнечной энергии',\n",
    "    grid = True,\n",
    "    lw=3\n",
    ");"
   ]
  },
  {
   "cell_type": "code",
   "execution_count": 29,
   "id": "43319ffa",
   "metadata": {},
   "outputs": [
    {
     "data": {
      "image/png": "[encoded data removed]",
      "text/plain": [
       "<Figure size 720x432 with 1 Axes>"
      ]
     },
     "metadata": {
      "needs_background": "light"
     },
     "output_type": "display_data"
    }
   ],
   "source": [
    "solar_power_m.plot(\n",
    "    kind='bar',\n",
    "    figsize=(10, 6),\n",
    "    xlabel='year_month',\n",
    "    ylabel='month_power',\n",
    "    title='Eжемесячная выработка солнечной энергии',\n",
    "    grid = True\n",
    ");"
   ]
  },
  {
   "cell_type": "markdown",
   "id": "8ff64410",
   "metadata": {},
   "source": [
    "На графиках временного ряда регулярной выработки солнечной энергии видно, что рост энергии происходит в сезонах зима - лето (январь - июнь, июль), снижение: лето - зима (июль - декабрь)."
   ]
  }
 ],
 "metadata": {
  "kernelspec": {
   "display_name": "Python 3 (ipykernel)",
   "language": "python",
   "name": "python3"
  },
  "language_info": {
   "codemirror_mode": {
    "name": "ipython",
    "version": 3
   },
   "file_extension": ".py",
   "mimetype": "text/x-python",
   "name": "python",
   "nbconvert_exporter": "python",
   "pygments_lexer": "ipython3",
   "version": "3.8.8"
  }
 },
 "nbformat": 4,
 "nbformat_minor": 5
}
